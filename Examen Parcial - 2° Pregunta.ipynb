{
 "cells": [
  {
   "cell_type": "markdown",
   "id": "9e0f3935",
   "metadata": {},
   "source": [
    "Ejercicio 02: Cree una función mediaDivN d n que devuelva la media de los n primeros números\n",
    "que devuelven True a la función del ejercicio anterior. Piense en cómo reducir el costo\n",
    "computacional."
   ]
  },
  {
   "cell_type": "code",
   "execution_count": 41,
   "id": "8022e52a",
   "metadata": {},
   "outputs": [],
   "source": [
    "-- Crearemos una funcion lcmlista para calcular el minimo comun multiplo de una lista utilizando lcm\n",
    "lcmlista :: [Int] -> Int\n",
    "lcmlista [] = 0\n",
    "lcmlista [a] = a \n",
    "lcmlista [a,b] = lcm a b\n",
    "lcmlista (a:z) = lcm a (lcmlista z)"
   ]
  },
  {
   "cell_type": "code",
   "execution_count": 40,
   "id": "082d5de4",
   "metadata": {},
   "outputs": [
    {
     "data": {
      "text/plain": [
       "60"
      ]
     },
     "metadata": {},
     "output_type": "display_data"
    }
   ],
   "source": [
    "-- Minimo comubn multiplo de 4 numeros\n",
    "lcmlista [12,3,5,6]"
   ]
  },
  {
   "cell_type": "code",
   "execution_count": 42,
   "id": "57469c62",
   "metadata": {},
   "outputs": [],
   "source": [
    "-- Hallamos la mediDivN\n",
    "mediaDivN :: Int -> Int -> Double\n",
    "mediaDivN d n = media \n",
    "    where\n",
    "        mcmtotal=lcmlista[1..d]\n",
    "        media = fromIntegral(mcmtotal * (n+1)) / 2"
   ]
  },
  {
   "cell_type": "code",
   "execution_count": 43,
   "id": "5e413bf1",
   "metadata": {},
   "outputs": [
    {
     "data": {
      "text/plain": [
       "5.0"
      ]
     },
     "metadata": {},
     "output_type": "display_data"
    }
   ],
   "source": [
    "-- Ejemplo \n",
    "mediaDivN 2 4"
   ]
  }
 ],
 "metadata": {
  "kernelspec": {
   "display_name": "Haskell",
   "language": "haskell",
   "name": "haskell"
  },
  "language_info": {
   "codemirror_mode": "ihaskell",
   "file_extension": ".hs",
   "mimetype": "text/x-haskell",
   "name": "haskell",
   "pygments_lexer": "Haskell",
   "version": "8.10.7"
  }
 },
 "nbformat": 4,
 "nbformat_minor": 5
}
