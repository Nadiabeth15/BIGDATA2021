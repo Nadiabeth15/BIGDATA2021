{
  "nbformat": 4,
  "nbformat_minor": 0,
  "metadata": {
    "colab": {
      "name": "Actividad  N°3 - MD",
      "provenance": [],
      "collapsed_sections": []
    },
    "kernelspec": {
      "name": "python3",
      "display_name": "Python 3"
    },
    "language_info": {
      "name": "python"
    }
  },
  "cells": [
    {
      "cell_type": "markdown",
      "metadata": {
        "id": "C0WVx-1VRs79"
      },
      "source": [
        "\n",
        "**MINERÍA DE DATOS**\n",
        "```\n",
        "Autor   : Nadiabeth Diana Mallqui Apaza\n",
        "Código  : 171063\n",
        "Trabajo : Implementar el algoritmo Apriori \n",
        "Dataset : spotify.npy\n",
        "```\n",
        "\n",
        "\n",
        "\n",
        "\n"
      ]
    },
    {
      "cell_type": "markdown",
      "metadata": {
        "id": "VMW18roYM5Xq"
      },
      "source": [
        "**LIBRERÍAS**"
      ]
    },
    {
      "cell_type": "code",
      "metadata": {
        "id": "AV_c7DnD4sp0"
      },
      "source": [
        "import numpy as np  \n",
        "import pandas as pd  \n",
        "import itertools"
      ],
      "execution_count": null,
      "outputs": []
    },
    {
      "cell_type": "markdown",
      "metadata": {
        "id": "WI884py-NEd3"
      },
      "source": [
        "**LEEMOS EL ARCHIVO \"spotify.npy\"**"
      ]
    },
    {
      "cell_type": "code",
      "metadata": {
        "id": "cGWZ2ipBTBBx",
        "colab": {
          "base_uri": "https://localhost:8080/"
        },
        "outputId": "27a544c2-c114-464e-a019-2a3651032b6c"
      },
      "source": [
        "# Cargamos el archivo \"spotify.npy\"\n",
        "dataset = np.load('spotify.npy', allow_pickle=True)\n",
        "dataset = dataset.tolist() # Convertimos a una lista\n",
        "play_lists_spotify = [dataset[i] for i in dataset]\n",
        "print(\"Nro de playlist en el dataset: \",len(dataset))"
      ],
      "execution_count": null,
      "outputs": [
        {
          "output_type": "stream",
          "name": "stdout",
          "text": [
            "Nro de playlist en el dataset:  10000\n"
          ]
        }
      ]
    },
    {
      "cell_type": "markdown",
      "metadata": {
        "id": "UCbOt_ly8YxW"
      },
      "source": [
        "###**Actividades**\n",
        "\n",
        "Las actividades que deberás realizar se detallan a continuación."
      ]
    },
    {
      "cell_type": "markdown",
      "metadata": {
        "id": "iiuvWiKn9DlB"
      },
      "source": [
        "###**1. Implementar el algoritmo Apriori**"
      ]
    },
    {
      "cell_type": "markdown",
      "metadata": {
        "id": "6uf4rblFH1N4"
      },
      "source": [
        "Esta funcion ConverLista como elemento de entrada tenemos las reglas de asociacion de tipo diccionario llamado `reglas_asociacion`, y como elemento de salida tendremos una lista de las reglas de asociacion  "
      ]
    },
    {
      "cell_type": "code",
      "metadata": {
        "id": "pOkeJYWr-47J"
      },
      "source": [
        "def ConvertLista(rule):\n",
        "  lista = []\n",
        "  for i in rule.keys():\n",
        "    if(len(i[0]) == 1):\n",
        "        if(len(i[1]) == 1):\n",
        "          asoc1_2=str(i[0][0]+'==='+i[1][0])\n",
        "          support=rule[i][0]\n",
        "          conf=rule[i][1]\n",
        "          lift=rule[i][2]\n",
        "          lista.append([asoc1_2, support,conf,lift])\n",
        "        else:\n",
        "          lista.append([asoc1_2, support,conf,lift])\n",
        "    else:\n",
        "        if(len(i[1]) == 1):\n",
        "          lista.append([asoc1_2, support,conf,lift])\n",
        "        else:\n",
        "          lista.append([asoc1_2, support,conf,lift])\n",
        "  return lista"
      ],
      "execution_count": null,
      "outputs": []
    },
    {
      "cell_type": "markdown",
      "metadata": {
        "id": "y6eNh3iqHDpX"
      },
      "source": [
        "La funcion frecuent_items tiene como entrada los `playlists` y como elemento de salida tenemos un diccionario que contendrá una frecuencia de support llamado `dict_frec_support`"
      ]
    },
    {
      "cell_type": "code",
      "metadata": {
        "id": "W7r4DgT9-YDb"
      },
      "source": [
        "#Calcula la fecuencia de los itemsets\n",
        "def frecuent_items(playlists):\n",
        "  #diccionario para almacenar los 1-itemsets frecuentes\n",
        "  dict_frec_support = {} \n",
        "  #Recorre cada fila de lista de la multilista playlits \n",
        "  for fila in playlists:\n",
        "    #Recorre cada musica de la lista\n",
        "    for musica in fila:\n",
        "      #Se asigna la frecuencia al itemsets y aumenta su valor en 1\n",
        "      if (musica,) not in dict_frec_support:\n",
        "        dict_frec_support[(musica,)] = 1\n",
        "      else:\n",
        "        dict_frec_support[(musica,)]+=1\n",
        "  return dict_frec_support"
      ],
      "execution_count": null,
      "outputs": []
    },
    {
      "cell_type": "markdown",
      "metadata": {
        "id": "ntG89aJ9GZCK"
      },
      "source": [
        "La funcion unir_itemset le pasamo sun diccionario llamado `dict_frec_support` y nos devolverá una lista de los itemsets"
      ]
    },
    {
      "cell_type": "code",
      "metadata": {
        "id": "7UhR3Ddk-YsT"
      },
      "source": [
        "def unir_itemset(diccionario):\n",
        "  #Se almacenará los itemset\n",
        "  seguro = list(diccionario.keys())\n",
        "  #El tamaño de keys\n",
        "  tam=len(seguro)\n",
        "  #Cremo una lista para almacenar nuestro itemset\n",
        "  u_itemsets = []\n",
        "  #--recorre posiciones de la lista keys\n",
        "  for i in range(tam): \n",
        "    #Recorre la lista seguro desde la posicion i+1\n",
        "    for j in range((i+1),tam):\n",
        "      if(len(seguro[i]) == 1):\n",
        "        #Para unir dos iitemsets\n",
        "          tupla = tuple(sorted((seguro[i][0],seguro[j][0])))\n",
        "          #Si no se encuentra en lalista de u_itemsets\n",
        "          if(tupla not in u_itemsets):\n",
        "            u_itemsets.append(tupla) \n",
        "      else: \n",
        "        #Ordenamos la lista\n",
        "        order_1=sorted(seguro[i])\n",
        "        tupla_1 = tuple(order_1) #Ordenada la tupla lexicograficamente\n",
        "        order_2 = sorted(seguro[j])\n",
        "        tupla_2 = tuple(order_2)\n",
        "        if (tupla_1 != tupla_2 and tupla_1[:len(tupla_1)-1] == tupla_2[:len(tupla_2)-1]):\n",
        "          tupla = tuple(sorted(tupla_1 + (tupla_2[len(tupla_2)-1],))) \n",
        "          if(tupla not in u_itemsets):\n",
        "            #Agregamos las tuplas generada que no estan en la lista\n",
        "            u_itemsets.append(tupla)\n",
        "  return u_itemsets"
      ],
      "execution_count": null,
      "outputs": []
    },
    {
      "cell_type": "markdown",
      "metadata": {
        "id": "0eYj2ATZTxsD"
      },
      "source": [
        "**Primera Función: Obtener los itemsets frecuentes**"
      ]
    },
    {
      "cell_type": "markdown",
      "metadata": {
        "id": "Ish3PJGsJQiB"
      },
      "source": [
        "Los parametros de entrada tenemos `playlists` y `minsupport=0.016`"
      ]
    },
    {
      "cell_type": "code",
      "metadata": {
        "id": "4woD_zbjW9zv"
      },
      "source": [
        "def get_frequent_itemsets(playlists, min_support):\n",
        "  # Frecuencia de 1_items\n",
        "  # Diccionario para almacenar la frecuencia de 1_items con su respectivo support \n",
        "  dict_frec_support=frecuent_items(playlists)\n",
        "  lista_frec_support=list(dict_frec_support)\n",
        "\n",
        "  #Identificamos el min_support de cada 1_itemes y esocogemos en base al min_support\n",
        "  #Recorremos la lista de frecuencia_support\n",
        "  for itemset in lista_frec_support:\n",
        "    #Vamos acctualizando el itemset y su respectivo support\n",
        "    dict_frec_support[itemset] /= len(playlists) \n",
        "    #Si min_support es mayor a los itemset de ¿l diccionario frec_support\n",
        "    if(min_support > dict_frec_support[itemset]):\n",
        "      #Si no cumplen con el requisito. se elimina\n",
        "      dict_frec_support.pop(itemset) \n",
        "\n",
        "  #CCon la funcion sorted ordenamos nuestro diccionario\n",
        "  dictemporal_frec_support=sorted(dict_frec_support.items())\n",
        "  #Convertimos a un dicionario\n",
        "  dict_frec_support = dict(dictemporal_frec_support) \n",
        "  #El numero de elementos frecuentes\n",
        "  print('Nro_ 1_itemsfreq:', len(dict_frec_support))\n",
        "\n",
        "  # Realizamos los 2_items frecuentes hasta n_items frecuentes hasta que no haya más\n",
        "  itemsets = unir_itemset(dict_frec_support) \n",
        "  #diccionario para almacenar itemset frecuentes y su support\n",
        "  dict_frecuentes_items = {} \n",
        "  i = 2\n",
        "  while(itemsets != []):\n",
        "    #Limpiamos dict_frec_support\n",
        "    dict_frec_support.clear()\n",
        "    #for que recorre las tuplas que existen en los n_itemset\n",
        "    for itemset in itemsets:\n",
        "      frecuencia = 0 \n",
        "      #for que recorre cada fila de listas de la lista de lista plalist\n",
        "      for playlist in playlists:\n",
        "        if(set(itemset).issubset(set(playlist)) == True):\n",
        "          #Se incrementa en 1 cuando existe el itemset en la playlist\n",
        "          frecuencia += 1\n",
        "        #Suport de itemset\n",
        "        support = frecuencia/len(playlists)\n",
        "        #Si el soporte es mayor que el min_support, calcula el support\n",
        "        if(support >= min_support):\n",
        "          dict_frec_support[itemset] = support\n",
        "    #Mostramos nuestro itemsets frecuentes\n",
        "    print('Nro_',i,'_itemsfreq: ', len(dict_frec_support))\n",
        "\n",
        "    #Actualizanos los itemtset frecuentes\n",
        "    dict_frecuentes_items.update(dict_frec_support)        \n",
        "    i += 1\n",
        "    # Realizamos los 2_items frecuentes hasta n_items frecuentes hasta que no haya más\n",
        "    itemsets = unir_itemset(dict_frec_support)\n",
        "  #print('Cantidad total de k-itemsets frecuentes (longitud 2 a más): ', len(dict_frecuentes_items))\n",
        "  return dict_frecuentes_items"
      ],
      "execution_count": null,
      "outputs": []
    },
    {
      "cell_type": "markdown",
      "metadata": {
        "id": "-pn7cpp_UCHd"
      },
      "source": [
        "**Segunda Función: Generar reglas de asociación**"
      ]
    },
    {
      "cell_type": "markdown",
      "metadata": {
        "id": "_VY6GdbGGKG4"
      },
      "source": [
        "Nuestro parametro de entrada en esta funcion es `frequent_itemsets` que proviene de obtener de los itemsets frecuentes, el segundo parametro es `confidence=0.5`, el tercer parametro es `lift=1.2`"
      ]
    },
    {
      "cell_type": "code",
      "metadata": {
        "id": "3B2gRDVMYZMO"
      },
      "source": [
        "def generate_association_rules(frequent_itemsets, confidence=0, lift=0):\n",
        "  #en n_frequent_itemset guardamos el diccionario frequent_itemsets\n",
        "  n_frequent_itemsets = frequent_itemsets.copy()\n",
        "  for llave, valor in  n_frequent_itemsets.items():\n",
        "    #Cantidad de la playlists\n",
        "    tmaño_playlist=len(play_lists_spotify)\n",
        "    #Multiplicamos el support por la cantidad de playlists\n",
        "    n_frequent_itemsets[llave] = valor*tmaño_playlist\n",
        "  #reglas_de_asociacion es un diccionario para almacenar nuestra reglas de asociacion\n",
        "  reglas_de_asociacion = {} \n",
        "  for itemset in frequent_itemsets:\n",
        "    #Ordenamos los elementos del itemset\n",
        "    order=sorted(itemset)\n",
        "    item = tuple(order)\n",
        "    #En esta lista alacenaremos lo ssubconjuntos de un itemset\n",
        "    subconjunto = []\n",
        "    cant=len(item)\n",
        "    for i in range(cant-1):\n",
        "      #Vamos a generar subconjuntos 2 o mas de los itemset\n",
        "      subconjunto += itertools.combinations(item, i+1)\n",
        "    #lista para guardar las reglas generadas\n",
        "    reglas_item = [] \n",
        "    k = 1\n",
        "    #Mientras el cant sea diferente al numero de subocnjuntos\n",
        "    while (cant != k):\n",
        "      #antecedentes que es una lista de posibles de un det de elementos\n",
        "      antecedent = list( filter(lambda i: len(i) == k, subconjunto))\n",
        "      #consecuente que es una lista de posibles de una det de elementos\n",
        "      consecuent = list( filter(lambda i: len(i) == cant-k, subconjunto))\n",
        "      #Itera las posibles antecedentes que forme una regla de asociacion \n",
        "      for i in antecedent:\n",
        "        #Por cada antecedente recorre las posibles consecuentes que forme una regla de asociacion\n",
        "        for j in consecuent:\n",
        "          t=len(set(i).intersection(set(j)))\n",
        "          if (([i,j] not in reglas_item) and (t == 0)):\n",
        "            #Agregamos a la regla_item si no existe aún\n",
        "            reglas_item.append([i,j]) \n",
        "      k += 1\n",
        "    #Copiamos nuestro frequent_itemset en dict_frecuente_support\n",
        "    dict_frequent_support = frequent_itemsets.copy()\n",
        "    #--recorre cada regla almacenada en reglas_item\n",
        "    for i in reglas_item:\n",
        "      numerador = i[0] + i[1]\n",
        "      #ALmacenaremos la frecuencia de antecdente y consecuent\n",
        "      frecuencia_n = 0\n",
        "      #Almacenaremos la frecuencia del antecedent\n",
        "      frecuencia_d = 0\n",
        "      #Si se encuentra en el diccionario\n",
        "      order_numerador= tuple(sorted(numerador))\n",
        "      #Hallmaos la unión del antecedente y el consecuente de la regla\n",
        "      if (order_numerador in n_frequent_itemsets.keys()): \n",
        "        #Retorna la union del antecedent de la regla de asociacion\n",
        "        frecuencia_n = n_frequent_itemsets.get(order_numerador) \n",
        "      #Halla la frecuencia del denominador es decir antecedente de la regla\n",
        "      if (tuple(sorted(i[0])) in n_frequent_itemsets.keys()):\n",
        "        #Devuelve la frecuencia del antecedente de la regla \n",
        "        frecuencia_d = (n_frequent_itemsets.get(tuple(sorted(i[0])))) \n",
        "      else:\n",
        "        #Recorre la fila de playlist\n",
        "        for fila in play_lists_spotify:\n",
        "          if all(j in fila for j in tuple(i[0])):\n",
        "            #Halla la frecucuecnai del antecedent de la regla\n",
        "            frecuencia_d += 1\n",
        "        #Vamos a agregar el antcedent de la regla con su respectivo frecuencia\n",
        "        n_frequent_itemsets[tuple(sorted(i[0]))] = frecuencia_d\n",
        "        if(tuple(sorted(i[0])) in dict_frequent_support.keys()):\n",
        "          #Si no existe en el diccionario frecuent support, se agrega el suppport más\n",
        "          dict_frequent_support[tuple(i[0])] = frecuencia_d/tmaño_playlist\n",
        "      confianza = 0 \n",
        "      if (frecuencia_d == 0): \n",
        "        confianza = 0 \n",
        "      else:\n",
        "        #confianza=frecuencianumerador/frecuenciaantecedente\n",
        "        confianza = frecuencia_n/frecuencia_d \n",
        "        #Si confianza de la regla es >= que el umbral mínimo de confianza\n",
        "        if(confianza >= confidence):\n",
        "          #Support de la unión del antecedente y el consecuente de la regla\n",
        "          support_antecedent_consucuent = 0 \n",
        "          #Support del numerador union de antecendent_consucuent\n",
        "          if(order_numerador in dict_frequent_support.keys()): \n",
        "            #Regresa el Support de la unión del antecedente y el consecuente de la regla\n",
        "            support_antecedent_consucuent = dict_frequent_support.get(order_numerador) \n",
        "          #Halla el support del antecedente de la regla\n",
        "          #Almacena el Support del antecedente de la regla\n",
        "          support_antecedente = 0\n",
        "          #Si el antecendent esta en el diccionari dict_frequent_support\n",
        "          if(tuple(sorted(i[0])) in dict_frequent_support.keys()): \n",
        "            #Retornar el support del antecedente\n",
        "            support_antecedente = dict_frequent_support.get(tuple(sorted(i[0]))) \n",
        "          #Cuando no esta en el dict_frequent_suppport\n",
        "          else:\n",
        "            #Otra vez recorremos la playlist\n",
        "            for fila in play_lists_spotify:\n",
        "              if all(k in fila for k in tuple(i[0])):\n",
        "                #Calculamos la frecuencia del antecedente\n",
        "                support_antecedente += 1\n",
        "            support_antecedente = support_antecedente/len(play_lists_spotify) \n",
        "            #Si no se encuentra, se grega al dict_frequent_support\n",
        "            dict_frequent_support[tuple(sorted(i[0]))] = support_antecedente \n",
        "          #Hallamos el support del consecuente de la regla\n",
        "          support_consecuente = 0 \n",
        "          ###ME HE QUEDADO AQUI\n",
        "          #Cuando el consecuente está en dict_frequent_support\n",
        "          if(tuple(sorted(i[1])) in dict_frequent_support.keys()): \n",
        "             #-Nos devuelve el support consecuente\n",
        "            support_consecuente = dict_frequent_support.get(tuple(sorted(i[1])))\n",
        "          #Cuando no esta en dict_frequent_support\n",
        "          else: \n",
        "            for fila in play_lists_spotify:\n",
        "              if all(k in fila for k in tuple(i[1])):\n",
        "                support_consecuente += 1\n",
        "            #Hallaremos nuestro suport consecuente \n",
        "            support_consecuente = support_consecuente/tmaño_playlist\n",
        "            #Se agrega al dict_frequent_support el support consecuente\n",
        "            dict_frequent_support[tuple(sorted(i[1]))] = support_consecuente \n",
        "          #Para almacenar nuestro lift\n",
        "          elev = 0 \n",
        "          #Si support_antecedente es 0 support_antecedente\n",
        "          if (support_antecedente == 0 or support_consecuente == 0):\n",
        "            elev = 0 \n",
        "          else: \n",
        "            #Para hallar elev, es decir lift, support_antecedent_consucuent/(support_antecedente*support_consecuente)\n",
        "            elev = support_antecedent_consucuent/(support_antecedente*support_consecuente) \n",
        "            #Si elev es >= al lift\n",
        "            if(elev >= lift): \n",
        "              #Se agrega a la regla de asociacion\n",
        "              reglas_de_asociacion[tuple(i)] = [support_antecedent_consucuent, confianza, elev]\n",
        "  return reglas_de_asociacion"
      ],
      "execution_count": null,
      "outputs": []
    },
    {
      "cell_type": "markdown",
      "metadata": {
        "id": "-5uhbdwa9Iqw"
      },
      "source": [
        "###**2. Aplicar el algoritmo y obtener reglas de asociación**\n",
        "\n"
      ]
    },
    {
      "cell_type": "markdown",
      "metadata": {
        "id": "i7nQRHV__B-J"
      },
      "source": [
        "Frecuencia de itemset\n",
        "\n",
        "`min_support=0.016`\n"
      ]
    },
    {
      "cell_type": "code",
      "metadata": {
        "colab": {
          "base_uri": "https://localhost:8080/"
        },
        "id": "yVPu80ss95ds",
        "outputId": "e660ee51-ef7c-4cf2-f4b5-e4fe936993ec"
      },
      "source": [
        "itmsets_freq = get_frequent_itemsets(play_lists_spotify, 0.016)"
      ],
      "execution_count": null,
      "outputs": [
        {
          "output_type": "stream",
          "name": "stdout",
          "text": [
            "Nro_ 1_itemsfreq: 313\n",
            "Nro_ 2 _itemsfreq:  12\n",
            "Nro_ 3 _itemsfreq:  0\n"
          ]
        }
      ]
    },
    {
      "cell_type": "markdown",
      "metadata": {
        "id": "Q9tNGPdHJ622"
      },
      "source": [
        "Una vez obtenido nuestro itmsets_freq convertimos a una `lista` y posterior a ello a un `dataframe`"
      ]
    },
    {
      "cell_type": "code",
      "metadata": {
        "colab": {
          "base_uri": "https://localhost:8080/",
          "height": 426
        },
        "id": "5bWXrk7Ce-UO",
        "outputId": "da2a636d-451f-4734-f257-78768ffbbb50"
      },
      "source": [
        "tupla=[]\n",
        "for i in itmsets_freq.keys():\n",
        "  iter=[str(i[0])+'==='+str(i[1]),itmsets_freq[i]]\n",
        "  tupla.append(iter)\n",
        "df_itmsets_freq=pd.DataFrame(tupla,columns=['Itemset frecuente', 'Support'])\n",
        "df_itmsets_freq"
      ],
      "execution_count": null,
      "outputs": [
        {
          "output_type": "execute_result",
          "data": {
            "text/html": [
              "<div>\n",
              "<style scoped>\n",
              "    .dataframe tbody tr th:only-of-type {\n",
              "        vertical-align: middle;\n",
              "    }\n",
              "\n",
              "    .dataframe tbody tr th {\n",
              "        vertical-align: top;\n",
              "    }\n",
              "\n",
              "    .dataframe thead th {\n",
              "        text-align: right;\n",
              "    }\n",
              "</style>\n",
              "<table border=\"1\" class=\"dataframe\">\n",
              "  <thead>\n",
              "    <tr style=\"text-align: right;\">\n",
              "      <th></th>\n",
              "      <th>Itemset frecuente</th>\n",
              "      <th>Support</th>\n",
              "    </tr>\n",
              "  </thead>\n",
              "  <tbody>\n",
              "    <tr>\n",
              "      <th>0</th>\n",
              "      <td>Bad and Boujee (feat. Lil Uzi Vert)===Bounce Back</td>\n",
              "      <td>0.0169</td>\n",
              "    </tr>\n",
              "    <tr>\n",
              "      <th>1</th>\n",
              "      <td>Bad and Boujee (feat. Lil Uzi Vert)===HUMBLE.</td>\n",
              "      <td>0.0167</td>\n",
              "    </tr>\n",
              "    <tr>\n",
              "      <th>2</th>\n",
              "      <td>Broccoli (feat. Lil Yachty)===Caroline</td>\n",
              "      <td>0.0172</td>\n",
              "    </tr>\n",
              "    <tr>\n",
              "      <th>3</th>\n",
              "      <td>Congratulations===HUMBLE.</td>\n",
              "      <td>0.0214</td>\n",
              "    </tr>\n",
              "    <tr>\n",
              "      <th>4</th>\n",
              "      <td>Congratulations===Mask Off</td>\n",
              "      <td>0.0162</td>\n",
              "    </tr>\n",
              "    <tr>\n",
              "      <th>5</th>\n",
              "      <td>Congratulations===XO TOUR Llif3</td>\n",
              "      <td>0.0179</td>\n",
              "    </tr>\n",
              "    <tr>\n",
              "      <th>6</th>\n",
              "      <td>Congratulations===iSpy (feat. Lil Yachty)</td>\n",
              "      <td>0.0162</td>\n",
              "    </tr>\n",
              "    <tr>\n",
              "      <th>7</th>\n",
              "      <td>DNA.===HUMBLE.</td>\n",
              "      <td>0.0190</td>\n",
              "    </tr>\n",
              "    <tr>\n",
              "      <th>8</th>\n",
              "      <td>HUMBLE.===Mask Off</td>\n",
              "      <td>0.0204</td>\n",
              "    </tr>\n",
              "    <tr>\n",
              "      <th>9</th>\n",
              "      <td>HUMBLE.===XO TOUR Llif3</td>\n",
              "      <td>0.0204</td>\n",
              "    </tr>\n",
              "    <tr>\n",
              "      <th>10</th>\n",
              "      <td>HUMBLE.===goosebumps</td>\n",
              "      <td>0.0167</td>\n",
              "    </tr>\n",
              "    <tr>\n",
              "      <th>11</th>\n",
              "      <td>Mask Off===XO TOUR Llif3</td>\n",
              "      <td>0.0163</td>\n",
              "    </tr>\n",
              "  </tbody>\n",
              "</table>\n",
              "</div>"
            ],
            "text/plain": [
              "                                    Itemset frecuente  Support\n",
              "0   Bad and Boujee (feat. Lil Uzi Vert)===Bounce Back   0.0169\n",
              "1       Bad and Boujee (feat. Lil Uzi Vert)===HUMBLE.   0.0167\n",
              "2              Broccoli (feat. Lil Yachty)===Caroline   0.0172\n",
              "3                           Congratulations===HUMBLE.   0.0214\n",
              "4                          Congratulations===Mask Off   0.0162\n",
              "5                     Congratulations===XO TOUR Llif3   0.0179\n",
              "6           Congratulations===iSpy (feat. Lil Yachty)   0.0162\n",
              "7                                      DNA.===HUMBLE.   0.0190\n",
              "8                                  HUMBLE.===Mask Off   0.0204\n",
              "9                             HUMBLE.===XO TOUR Llif3   0.0204\n",
              "10                               HUMBLE.===goosebumps   0.0167\n",
              "11                           Mask Off===XO TOUR Llif3   0.0163"
            ]
          },
          "metadata": {},
          "execution_count": 70
        }
      ]
    },
    {
      "cell_type": "markdown",
      "metadata": {
        "id": "qEyMEVyt_Gmh"
      },
      "source": [
        "**Reglas de asociacion**\n",
        "\n",
        "*   `confianza=0.5`\n",
        "\n",
        "*   `lift=1.2`"
      ]
    },
    {
      "cell_type": "code",
      "metadata": {
        "id": "135Dp7dD8kqE"
      },
      "source": [
        "reglas_asociacion = generate_association_rules(itmsets_freq, 0.5, 1.2)"
      ],
      "execution_count": null,
      "outputs": []
    },
    {
      "cell_type": "markdown",
      "metadata": {
        "id": "xF_tdPHtKLTV"
      },
      "source": [
        "Utilizando la funcion ConevertLista convertimos en un `lista` el dataset `reglas_asociacion`, luego mostramos en un `dataframe` nuestra regla de asociacion"
      ]
    },
    {
      "cell_type": "code",
      "metadata": {
        "colab": {
          "base_uri": "https://localhost:8080/",
          "height": 363
        },
        "id": "4pPmoq_g7HKz",
        "outputId": "19a5cf06-3e9d-4768-fe2c-14b583f53139"
      },
      "source": [
        "data_regla_asociacion=ConvertLista(reglas_asociacion)\n",
        "data_regla_asociacion_final=pd.DataFrame(data_regla_asociacion,columns=['Reglas de asociación', 'Support', 'Confidence', 'Lift'])\n",
        "data_regla_asociacion_final"
      ],
      "execution_count": null,
      "outputs": [
        {
          "output_type": "execute_result",
          "data": {
            "text/html": [
              "<div>\n",
              "<style scoped>\n",
              "    .dataframe tbody tr th:only-of-type {\n",
              "        vertical-align: middle;\n",
              "    }\n",
              "\n",
              "    .dataframe tbody tr th {\n",
              "        vertical-align: top;\n",
              "    }\n",
              "\n",
              "    .dataframe thead th {\n",
              "        text-align: right;\n",
              "    }\n",
              "</style>\n",
              "<table border=\"1\" class=\"dataframe\">\n",
              "  <thead>\n",
              "    <tr style=\"text-align: right;\">\n",
              "      <th></th>\n",
              "      <th>Reglas de asociación</th>\n",
              "      <th>Support</th>\n",
              "      <th>Confidence</th>\n",
              "      <th>Lift</th>\n",
              "    </tr>\n",
              "  </thead>\n",
              "  <tbody>\n",
              "    <tr>\n",
              "      <th>0</th>\n",
              "      <td>Bounce Back===Bad and Boujee (feat. Lil Uzi Vert)</td>\n",
              "      <td>0.0169</td>\n",
              "      <td>0.569024</td>\n",
              "      <td>16.493437</td>\n",
              "    </tr>\n",
              "    <tr>\n",
              "      <th>1</th>\n",
              "      <td>Congratulations===HUMBLE.</td>\n",
              "      <td>0.0214</td>\n",
              "      <td>0.531017</td>\n",
              "      <td>11.419728</td>\n",
              "    </tr>\n",
              "    <tr>\n",
              "      <th>2</th>\n",
              "      <td>Mask Off===Congratulations</td>\n",
              "      <td>0.0162</td>\n",
              "      <td>0.512658</td>\n",
              "      <td>12.721048</td>\n",
              "    </tr>\n",
              "    <tr>\n",
              "      <th>3</th>\n",
              "      <td>XO TOUR Llif3===Congratulations</td>\n",
              "      <td>0.0179</td>\n",
              "      <td>0.554180</td>\n",
              "      <td>13.751354</td>\n",
              "    </tr>\n",
              "    <tr>\n",
              "      <th>4</th>\n",
              "      <td>DNA.===HUMBLE.</td>\n",
              "      <td>0.0190</td>\n",
              "      <td>0.822511</td>\n",
              "      <td>17.688405</td>\n",
              "    </tr>\n",
              "    <tr>\n",
              "      <th>5</th>\n",
              "      <td>Mask Off===HUMBLE.</td>\n",
              "      <td>0.0204</td>\n",
              "      <td>0.645570</td>\n",
              "      <td>13.883218</td>\n",
              "    </tr>\n",
              "    <tr>\n",
              "      <th>6</th>\n",
              "      <td>XO TOUR Llif3===HUMBLE.</td>\n",
              "      <td>0.0204</td>\n",
              "      <td>0.631579</td>\n",
              "      <td>13.582343</td>\n",
              "    </tr>\n",
              "    <tr>\n",
              "      <th>7</th>\n",
              "      <td>goosebumps===HUMBLE.</td>\n",
              "      <td>0.0167</td>\n",
              "      <td>0.542208</td>\n",
              "      <td>11.660383</td>\n",
              "    </tr>\n",
              "    <tr>\n",
              "      <th>8</th>\n",
              "      <td>Mask Off===XO TOUR Llif3</td>\n",
              "      <td>0.0163</td>\n",
              "      <td>0.515823</td>\n",
              "      <td>15.969746</td>\n",
              "    </tr>\n",
              "    <tr>\n",
              "      <th>9</th>\n",
              "      <td>XO TOUR Llif3===Mask Off</td>\n",
              "      <td>0.0163</td>\n",
              "      <td>0.504644</td>\n",
              "      <td>15.969746</td>\n",
              "    </tr>\n",
              "  </tbody>\n",
              "</table>\n",
              "</div>"
            ],
            "text/plain": [
              "                                Reglas de asociación  ...       Lift\n",
              "0  Bounce Back===Bad and Boujee (feat. Lil Uzi Vert)  ...  16.493437\n",
              "1                          Congratulations===HUMBLE.  ...  11.419728\n",
              "2                         Mask Off===Congratulations  ...  12.721048\n",
              "3                    XO TOUR Llif3===Congratulations  ...  13.751354\n",
              "4                                     DNA.===HUMBLE.  ...  17.688405\n",
              "5                                 Mask Off===HUMBLE.  ...  13.883218\n",
              "6                            XO TOUR Llif3===HUMBLE.  ...  13.582343\n",
              "7                               goosebumps===HUMBLE.  ...  11.660383\n",
              "8                           Mask Off===XO TOUR Llif3  ...  15.969746\n",
              "9                           XO TOUR Llif3===Mask Off  ...  15.969746\n",
              "\n",
              "[10 rows x 4 columns]"
            ]
          },
          "metadata": {},
          "execution_count": 72
        }
      ]
    },
    {
      "cell_type": "markdown",
      "metadata": {
        "id": "pkTccuBO9N1Q"
      },
      "source": [
        "###**3. Explicar las reglas obtenidas**"
      ]
    },
    {
      "cell_type": "markdown",
      "metadata": {
        "id": "zX0zatpmBJ84"
      },
      "source": [
        "**ORDENANDO LAS 10 MEJORES REGLAS DE ASOCIACIÓN**\n"
      ]
    },
    {
      "cell_type": "code",
      "metadata": {
        "colab": {
          "base_uri": "https://localhost:8080/",
          "height": 363
        },
        "id": "oFEYpbci_hyR",
        "outputId": "4e43ada5-b377-4f8b-ee24-eb997376ff33"
      },
      "source": [
        "# Ordenamos las reglas de asociación según la columna \"Confidence\"\n",
        "data_regla_asociacion_final = data_regla_asociacion_final.sort_values(by=['Confidence','Lift','Support'],ascending = False).reset_index(drop = True)\n",
        "data_regla_asociacion_final"
      ],
      "execution_count": null,
      "outputs": [
        {
          "output_type": "execute_result",
          "data": {
            "text/html": [
              "<div>\n",
              "<style scoped>\n",
              "    .dataframe tbody tr th:only-of-type {\n",
              "        vertical-align: middle;\n",
              "    }\n",
              "\n",
              "    .dataframe tbody tr th {\n",
              "        vertical-align: top;\n",
              "    }\n",
              "\n",
              "    .dataframe thead th {\n",
              "        text-align: right;\n",
              "    }\n",
              "</style>\n",
              "<table border=\"1\" class=\"dataframe\">\n",
              "  <thead>\n",
              "    <tr style=\"text-align: right;\">\n",
              "      <th></th>\n",
              "      <th>Reglas de asociación</th>\n",
              "      <th>Support</th>\n",
              "      <th>Confidence</th>\n",
              "      <th>Lift</th>\n",
              "    </tr>\n",
              "  </thead>\n",
              "  <tbody>\n",
              "    <tr>\n",
              "      <th>0</th>\n",
              "      <td>DNA.===HUMBLE.</td>\n",
              "      <td>0.0190</td>\n",
              "      <td>0.822511</td>\n",
              "      <td>17.688405</td>\n",
              "    </tr>\n",
              "    <tr>\n",
              "      <th>1</th>\n",
              "      <td>Mask Off===HUMBLE.</td>\n",
              "      <td>0.0204</td>\n",
              "      <td>0.645570</td>\n",
              "      <td>13.883218</td>\n",
              "    </tr>\n",
              "    <tr>\n",
              "      <th>2</th>\n",
              "      <td>XO TOUR Llif3===HUMBLE.</td>\n",
              "      <td>0.0204</td>\n",
              "      <td>0.631579</td>\n",
              "      <td>13.582343</td>\n",
              "    </tr>\n",
              "    <tr>\n",
              "      <th>3</th>\n",
              "      <td>Bounce Back===Bad and Boujee (feat. Lil Uzi Vert)</td>\n",
              "      <td>0.0169</td>\n",
              "      <td>0.569024</td>\n",
              "      <td>16.493437</td>\n",
              "    </tr>\n",
              "    <tr>\n",
              "      <th>4</th>\n",
              "      <td>XO TOUR Llif3===Congratulations</td>\n",
              "      <td>0.0179</td>\n",
              "      <td>0.554180</td>\n",
              "      <td>13.751354</td>\n",
              "    </tr>\n",
              "    <tr>\n",
              "      <th>5</th>\n",
              "      <td>goosebumps===HUMBLE.</td>\n",
              "      <td>0.0167</td>\n",
              "      <td>0.542208</td>\n",
              "      <td>11.660383</td>\n",
              "    </tr>\n",
              "    <tr>\n",
              "      <th>6</th>\n",
              "      <td>Congratulations===HUMBLE.</td>\n",
              "      <td>0.0214</td>\n",
              "      <td>0.531017</td>\n",
              "      <td>11.419728</td>\n",
              "    </tr>\n",
              "    <tr>\n",
              "      <th>7</th>\n",
              "      <td>Mask Off===XO TOUR Llif3</td>\n",
              "      <td>0.0163</td>\n",
              "      <td>0.515823</td>\n",
              "      <td>15.969746</td>\n",
              "    </tr>\n",
              "    <tr>\n",
              "      <th>8</th>\n",
              "      <td>Mask Off===Congratulations</td>\n",
              "      <td>0.0162</td>\n",
              "      <td>0.512658</td>\n",
              "      <td>12.721048</td>\n",
              "    </tr>\n",
              "    <tr>\n",
              "      <th>9</th>\n",
              "      <td>XO TOUR Llif3===Mask Off</td>\n",
              "      <td>0.0163</td>\n",
              "      <td>0.504644</td>\n",
              "      <td>15.969746</td>\n",
              "    </tr>\n",
              "  </tbody>\n",
              "</table>\n",
              "</div>"
            ],
            "text/plain": [
              "                                Reglas de asociación  ...       Lift\n",
              "0                                     DNA.===HUMBLE.  ...  17.688405\n",
              "1                                 Mask Off===HUMBLE.  ...  13.883218\n",
              "2                            XO TOUR Llif3===HUMBLE.  ...  13.582343\n",
              "3  Bounce Back===Bad and Boujee (feat. Lil Uzi Vert)  ...  16.493437\n",
              "4                    XO TOUR Llif3===Congratulations  ...  13.751354\n",
              "5                               goosebumps===HUMBLE.  ...  11.660383\n",
              "6                          Congratulations===HUMBLE.  ...  11.419728\n",
              "7                           Mask Off===XO TOUR Llif3  ...  15.969746\n",
              "8                         Mask Off===Congratulations  ...  12.721048\n",
              "9                           XO TOUR Llif3===Mask Off  ...  15.969746\n",
              "\n",
              "[10 rows x 4 columns]"
            ]
          },
          "metadata": {},
          "execution_count": 73
        }
      ]
    },
    {
      "cell_type": "markdown",
      "metadata": {
        "id": "FCkEBLBO_bCZ"
      },
      "source": [
        "**LAS 4 MEJORES REGLAS DE ASOCIACIÓN**"
      ]
    },
    {
      "cell_type": "code",
      "metadata": {
        "colab": {
          "base_uri": "https://localhost:8080/",
          "height": 175
        },
        "id": "kicIK9tq_0iA",
        "outputId": "37f0fd9c-db20-4be3-d490-221c6bcc7a64"
      },
      "source": [
        "data_regla_asociacion_final[:4]"
      ],
      "execution_count": null,
      "outputs": [
        {
          "output_type": "execute_result",
          "data": {
            "text/html": [
              "<div>\n",
              "<style scoped>\n",
              "    .dataframe tbody tr th:only-of-type {\n",
              "        vertical-align: middle;\n",
              "    }\n",
              "\n",
              "    .dataframe tbody tr th {\n",
              "        vertical-align: top;\n",
              "    }\n",
              "\n",
              "    .dataframe thead th {\n",
              "        text-align: right;\n",
              "    }\n",
              "</style>\n",
              "<table border=\"1\" class=\"dataframe\">\n",
              "  <thead>\n",
              "    <tr style=\"text-align: right;\">\n",
              "      <th></th>\n",
              "      <th>Reglas de asociación</th>\n",
              "      <th>Support</th>\n",
              "      <th>Confidence</th>\n",
              "      <th>Lift</th>\n",
              "    </tr>\n",
              "  </thead>\n",
              "  <tbody>\n",
              "    <tr>\n",
              "      <th>0</th>\n",
              "      <td>DNA.===HUMBLE.</td>\n",
              "      <td>0.0190</td>\n",
              "      <td>0.822511</td>\n",
              "      <td>17.688405</td>\n",
              "    </tr>\n",
              "    <tr>\n",
              "      <th>1</th>\n",
              "      <td>Mask Off===HUMBLE.</td>\n",
              "      <td>0.0204</td>\n",
              "      <td>0.645570</td>\n",
              "      <td>13.883218</td>\n",
              "    </tr>\n",
              "    <tr>\n",
              "      <th>2</th>\n",
              "      <td>XO TOUR Llif3===HUMBLE.</td>\n",
              "      <td>0.0204</td>\n",
              "      <td>0.631579</td>\n",
              "      <td>13.582343</td>\n",
              "    </tr>\n",
              "    <tr>\n",
              "      <th>3</th>\n",
              "      <td>Bounce Back===Bad and Boujee (feat. Lil Uzi Vert)</td>\n",
              "      <td>0.0169</td>\n",
              "      <td>0.569024</td>\n",
              "      <td>16.493437</td>\n",
              "    </tr>\n",
              "  </tbody>\n",
              "</table>\n",
              "</div>"
            ],
            "text/plain": [
              "                                Reglas de asociación  ...       Lift\n",
              "0                                     DNA.===HUMBLE.  ...  17.688405\n",
              "1                                 Mask Off===HUMBLE.  ...  13.883218\n",
              "2                            XO TOUR Llif3===HUMBLE.  ...  13.582343\n",
              "3  Bounce Back===Bad and Boujee (feat. Lil Uzi Vert)  ...  16.493437\n",
              "\n",
              "[4 rows x 4 columns]"
            ]
          },
          "metadata": {},
          "execution_count": 74
        }
      ]
    },
    {
      "cell_type": "markdown",
      "metadata": {
        "id": "iXVtjMtIWLqn"
      },
      "source": [
        "**ANÁLISIS DE LAS REGLAS DE ASOCIACIÓN**"
      ]
    },
    {
      "cell_type": "markdown",
      "metadata": {
        "id": "0BiaOfQAXHJS"
      },
      "source": [
        "**Primera Regla de Asociación**\n",
        "\n",
        "\n",
        "```\n",
        "        DNA. === HUMBLE.\n",
        "------------------------------------\n",
        "  - Support    : 0.0190\n",
        "  - Confidence : 0.822511 \n",
        "  - Lift       : 17.688405\n",
        "\n",
        "```\n",
        "Dicha regla fue la que obtuvo más confianza (*Confidence*), entonces podemos\n",
        "decir que si la gente escucha \"DNA.\" hay una probabilidad del 82% que también escuchen \"HUMBLE.\", ya que ambas canciones son del mismo género. Ahora, ya que el valor de lift es alto podemos decir que, es acertado que ambas canciones tengan relación.\n",
        "\n",
        "\n",
        "\n"
      ]
    },
    {
      "cell_type": "markdown",
      "metadata": {
        "id": "is59mXBDe_Yn"
      },
      "source": [
        "**Segunda Regla de Asociación**\n",
        "\n",
        "\n",
        "```\n",
        "      Mask Off  ===  HUMBLE.\t\n",
        "------------------------------------\n",
        "  - Support    : 0.0204\n",
        "  - Confidence : 0.645570 \n",
        "  - Lift       : 13.883218\n",
        "\n",
        "```\n",
        "Esta segunda regla tiene un confianza (*Confidence*) de 64%, entonces la probabilidad de escuchar \"HUMBLE\" después de \"Mask Off\" es un 64%. En esta regla el valor de lift también es alto, entonces es acertado que ambas canciones estén relacionadas.\n"
      ]
    },
    {
      "cell_type": "markdown",
      "metadata": {
        "id": "uWDc1udafUEa"
      },
      "source": [
        "**Tercera Regla de Asociación**\n",
        "\n",
        "\n",
        "```\n",
        "    XO TOUR Llif3  ===  HUMBLE.\t\n",
        "------------------------------------\n",
        "  - Support    : 0.0204\n",
        "  - Confidence : 0.631579 \n",
        "  - Lift       : 13.582343\n",
        "\n",
        "```\n",
        "El valor de lift es alto, entonces es acertado que ambas canciones tengan relación. La confianza (*Confidence*) es mayor del 50%, entonces la probabilidad que se escuche la canción \"HUMBLE\" después de la canción \"XO TOUR Llif3\" es de un 63%, además que ambas camciones tienen géneros musicales similares."
      ]
    },
    {
      "cell_type": "markdown",
      "metadata": {
        "id": "glPzNQpzf2w6"
      },
      "source": [
        "**Cuarta Regla de Asociación**\n",
        "\n",
        "\n",
        "```\n",
        " Bounce Back  ===  Bad and Boujee (feat. Lil Uzi Vert)\t\n",
        "---------------------------------------------------\n",
        "  - Support    : 0.0169\n",
        "  - Confidence : 0.569024 \n",
        "  - Lift       : 16.493437\n",
        "\n",
        "```\n",
        "La cuarta regla tiene una confianza (*Confidence*) de 56%, entonces existe una probabilidad media de que se escuche \"Bad and Boujee (feat. Lil Uzi Vert)\" después de \"Bounce Back\". El valor de lift es alto, entonces es acertado que ambas canciones estén relacionados."
      ]
    }
  ]
}